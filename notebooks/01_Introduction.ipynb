{
 "cells": [
  {
   "cell_type": "markdown",
   "metadata": {
    "colab_type": "text",
    "id": "view-in-github",
    "slideshow": {
     "slide_type": "skip"
    }
   },
   "source": [
    "<a href=\"https://colab.research.google.com/github/tds2122/course/blob/main/notebooks/01_Introduction.ipynb\" target=\"_parent\"><img src=\"https://colab.research.google.com/assets/colab-badge.svg\" alt=\"Open In Colab\"/></a>"
   ]
  },
  {
   "cell_type": "markdown",
   "metadata": {
    "id": "RQNKDp_MZUZR",
    "slideshow": {
     "slide_type": "slide"
    }
   },
   "source": [
    "<div class='bar_title'></div>\n",
    "\n",
    "*Practical Data Science*\n",
    "\n",
    "# Introduction\n",
    "\n",
    "Gunther Gust / Nikolai Stein<br>\n",
    "Chair of Enterprise AI\n",
    "\n",
    "Winter Semester 22/23"
   ]
  },
  {
   "cell_type": "markdown",
   "metadata": {
    "id": "vSFjRRMoZUZV",
    "slideshow": {
     "slide_type": "slide"
    }
   },
   "source": [
    "## About Us"
   ]
  },
  {
   "cell_type": "markdown",
   "metadata": {
    "id": "LZQ3EdrvZUZX",
    "slideshow": {
     "slide_type": "subslide"
    }
   },
   "source": [
    "### Research Areas"
   ]
  },
  {
   "cell_type": "markdown",
   "metadata": {
    "hide_input": true,
    "id": "w6_SWZN0ZUZX"
   },
   "source": [
    "<img src=\"https://github.com/NikoStein/pds_data/raw/main/images/01/research.png\" style=\"width:80%\">"
   ]
  },
  {
   "cell_type": "markdown",
   "metadata": {
    "id": "FR_af-6uZUZY",
    "slideshow": {
     "slide_type": "subslide"
    }
   },
   "source": [
    "### Master Teaching Program"
   ]
  },
  {
   "cell_type": "markdown",
   "metadata": {
    "hide_input": true,
    "id": "3zy0eavBZUZY"
   },
   "source": [
    "<img src=\"https://github.com/NikoStein/pds_data/raw/main/images/01/courses_master.png\" style=\"width:80%\">"
   ]
  },
  {
   "cell_type": "markdown",
   "metadata": {
    "id": "71lkQI1HZUZZ",
    "slideshow": {
     "slide_type": "subslide"
    }
   },
   "source": [
    "## Course Organization"
   ]
  },
  {
   "cell_type": "markdown",
   "metadata": {
    "cell_style": "split",
    "id": "P4gA1LRWZUZa",
    "slideshow": {
     "slide_type": "fragment"
    }
   },
   "source": [
    " -  Classes\n",
    "    - Lecture: \tThursday 10:15 – 11:45\n",
    "    - Tutorial: After Lecture \n",
    " -  Self-study and Tutorial\n",
    "    - Work on (bi-)weekly assignments and programming examples\n",
    "    - Worksheet submissions are mandatory"
   ]
  },
  {
   "cell_type": "markdown",
   "metadata": {
    "cell_style": "split",
    "id": "jGuqn6UrZUZa",
    "slideshow": {
     "slide_type": "fragment"
    }
   },
   "source": [
    "-  WueCampus      \n",
    "    - Forum and information\n",
    "- Github\n",
    "    - Slides and worksheets     \n",
    "    - Submission of solutions  "
   ]
  },
  {
   "cell_type": "markdown",
   "metadata": {
    "id": "ra34PBT0ZUZa",
    "slideshow": {
     "slide_type": "fragment"
    }
   },
   "source": [
    "-  **Examination**: Graded capstone group project     \n",
    "    - Work on a real-world problem set\n",
    "    - Groups of 3 students"
   ]
  },
  {
   "cell_type": "markdown",
   "metadata": {
    "id": "MIPcLAkgZUZb",
    "slideshow": {
     "slide_type": "subslide"
    }
   },
   "source": [
    "### Learning Objectives"
   ]
  },
  {
   "cell_type": "markdown",
   "metadata": {
    "id": "m0OcammpZUZb"
   },
   "source": [
    "* The foundations, **frameworks and applications** of the emerging field of data science\n",
    "* Design, implement, and evaluate the core algorithms underlying an **end-to-end data science workflow**, including data import, analysis, and presentation of information\n",
    "* Leverage the **Python** application programming interface (API) ecosystem and data infrastructure that supports data acquisition, storage, retrieval and analysis\n",
    "* The application of a data-based **analytical approach** to identify and solve problems\n",
    "* Implementation and execution skills for **data-driven business analytics**"
   ]
  },
  {
   "cell_type": "markdown",
   "metadata": {
    "id": "J-wj7rIaZUZb",
    "slideshow": {
     "slide_type": "subslide"
    }
   },
   "source": [
    "### Tentative Schedule of Topics"
   ]
  },
  {
   "cell_type": "markdown",
   "metadata": {
    "id": "cNKreTgMZUZb"
   },
   "source": [
    "1. Introduction, Jupyter Notebooks, Version Control (**today**)\n",
    "1. Descriptive Analytics\n",
    "1. Machine Learning Introduction\n",
    "1. Feature Engineering\n",
    "1. Deep Learning on Tabular Data\n",
    "1. Deep Learning for Computer Vision\n",
    "1. Guest Lecture snapADDY\n",
    "1. Data to Production\n",
    "1. Deep Learning for Natural Language Processing\n",
    "1. NLP with Huggingface\n",
    "1. Capstone Project"
   ]
  },
  {
   "cell_type": "markdown",
   "metadata": {
    "id": "GVK2IzOaZUZc"
   },
   "source": [
    "### Programming Assignments"
   ]
  },
  {
   "cell_type": "markdown",
   "metadata": {
    "id": "5u2jVmBvZUZc",
    "slideshow": {
     "slide_type": "subslide"
    }
   },
   "source": [
    "0. Initial Assignment (**this week**, not graded)\n",
    "1. Descriptive Analytics\n",
    "1. Machine Learning and Feature Engineering\n",
    "1. Deep Learning on Tabular Data\n",
    "1. Deep Learning for Computer Vision\n",
    "1. Deep Learning for Computer Vision II"
   ]
  },
  {
   "cell_type": "markdown",
   "metadata": {
    "id": "ezivMYHrZUZc",
    "slideshow": {
     "slide_type": "slide"
    }
   },
   "source": [
    "## Programming Language (Python)"
   ]
  },
  {
   "cell_type": "markdown",
   "metadata": {
    "id": "KUuwh7hBZUZc"
   },
   "source": [
    "__Python is <s>becoming</s> the world’s most popular coding language__\n",
    "\n",
    "For the first time in more than 20 years we have a new leader of the pack: the Python programming language\n",
    "\n",
    "<img src=\"https://github.com/NikoStein/pds_data/raw/main/images/01/tiobe_2021.png\" style=\"width:50%\">\n",
    "\n",
    "Source: [Tiobe](https://www.tiobe.com/tiobe-index/)"
   ]
  },
  {
   "cell_type": "markdown",
   "metadata": {
    "id": "75EzrcZsZUZd",
    "slideshow": {
     "slide_type": "subslide"
    }
   },
   "source": [
    "**Why Python?**\n",
    "\n",
    "While there are several great languages for data analysis (such as R, Julia, Scala, ...) we decided to use python for this class because of the following reasons:\n",
    "\n",
    "* Excellent interactive shell and a large collection of open source packages\n",
    "* Very simple syntax\n",
    "* Simple enough for things to happen quickly and powerful enough to allow the implementation of the most complex ideas\n",
    "* Several highly optimized machine learning libraries that you can drag and drop into your code even if you know a minimum of Python\n",
    "* Good visualization capabilities"
   ]
  }
 ],
 "metadata": {
  "celltoolbar": "Slideshow",
  "colab": {
   "include_colab_link": true,
   "name": "01_Introduction.ipynb",
   "provenance": []
  },
  "kernelspec": {
   "display_name": "Python 3",
   "language": "python",
   "name": "python3"
  },
  "language_info": {
   "codemirror_mode": {
    "name": "ipython",
    "version": 3
   },
   "file_extension": ".py",
   "mimetype": "text/x-python",
   "name": "python",
   "nbconvert_exporter": "python",
   "pygments_lexer": "ipython3",
   "version": "3.7.9"
  },
  "rise": {
   "enable_chalkboard": false,
   "overlay": "<div class='background'></div><div class='header'>WS 22/23</br>TDS 2</div><div class='logo'><img src='images/unilogo.png'></div><div class='bar'></div>",
   "scroll": true,
   "slideNumber": "h.v"
  }
 },
 "nbformat": 4,
 "nbformat_minor": 1
}
